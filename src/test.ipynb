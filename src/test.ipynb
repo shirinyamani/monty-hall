{
 "cells": [
  {
   "cell_type": "code",
   "execution_count": 3,
   "metadata": {},
   "outputs": [],
   "source": [
    "#user ----> random guess\n",
    "#swap \n",
    "#monty choice ---> goat\n",
    "\n",
    "import random"
   ]
  },
  {
   "cell_type": "code",
   "execution_count": 19,
   "metadata": {},
   "outputs": [],
   "source": [
    "switch_door =True"
   ]
  },
  {
   "cell_type": "code",
   "execution_count": 54,
   "metadata": {},
   "outputs": [],
   "source": [
    "def monty_hall(switch_door):\n",
    "    doors = ['car', 'goat', 'goat']\n",
    "    random.shuffle(doors) #inplace so exit is None\n",
    "    user_choice = random.choice(range(len(doors)))\n",
    "    #print(f'user initial choice {user_choice} from doors {doors}')\n",
    "\n",
    "    doors_reveal = [door for door in range(len(doors)) if door != user_choice and doors[door] != 'car']\n",
    "    #print(f'remained doors {doors_reveal}')\n",
    "    door_reveal = random.choice(doors_reveal)\n",
    "    #print(door_reveal)\n",
    "\n",
    "    if switch_door:\n",
    "        final_choice  = [door for door in range(3) if door != user_choice and door != door_reveal][0]\n",
    "    else:\n",
    "        final_choice = user_choice\n",
    "    return doors[final_choice] == 'car'"
   ]
  },
  {
   "cell_type": "code",
   "execution_count": null,
   "metadata": {},
   "outputs": [],
   "source": []
  },
  {
   "cell_type": "code",
   "execution_count": 59,
   "metadata": {},
   "outputs": [],
   "source": [
    "def simulate(n):\n",
    "    num_win_no_switch = sum([monty_hall(False) for _ in range(n)])\n",
    "    num_win_switch = sum([monty_hall(True) for _ in range(n)])\n",
    "    return f'Wins WITHOUT switching:{(num_win_no_switch/n)*100}%, Losts: {(num_win_switch/n)*100}%'\n",
    "\n"
   ]
  },
  {
   "cell_type": "code",
   "execution_count": 61,
   "metadata": {},
   "outputs": [
    {
     "data": {
      "text/plain": [
       "'Wins WITHOUT switching:33.17%, Losts: 66.864%'"
      ]
     },
     "execution_count": 61,
     "metadata": {},
     "output_type": "execute_result"
    }
   ],
   "source": [
    "simulate(100000)"
   ]
  },
  {
   "cell_type": "code",
   "execution_count": null,
   "metadata": {},
   "outputs": [],
   "source": []
  }
 ],
 "metadata": {
  "kernelspec": {
   "display_name": "ali-ml",
   "language": "python",
   "name": "python3"
  },
  "language_info": {
   "codemirror_mode": {
    "name": "ipython",
    "version": 3
   },
   "file_extension": ".py",
   "mimetype": "text/x-python",
   "name": "python",
   "nbconvert_exporter": "python",
   "pygments_lexer": "ipython3",
   "version": "3.10.12"
  }
 },
 "nbformat": 4,
 "nbformat_minor": 2
}
